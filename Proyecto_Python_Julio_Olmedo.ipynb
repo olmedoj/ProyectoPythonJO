{
  "nbformat": 4,
  "nbformat_minor": 0,
  "metadata": {
    "colab": {
      "provenance": [],
      "authorship_tag": "ABX9TyNik45k2Sf0TLOqwJeGjVdh",
      "include_colab_link": true
    },
    "kernelspec": {
      "name": "python3",
      "display_name": "Python 3"
    },
    "language_info": {
      "name": "python"
    }
  },
  "cells": [
    {
      "cell_type": "markdown",
      "metadata": {
        "id": "view-in-github",
        "colab_type": "text"
      },
      "source": [
        "<a href=\"https://colab.research.google.com/github/olmedoj/ProyectoPythonJO/blob/main/Proyecto_Python_Julio_Olmedo.ipynb\" target=\"_parent\"><img src=\"https://colab.research.google.com/assets/colab-badge.svg\" alt=\"Open In Colab\"/></a>"
      ]
    },
    {
      "cell_type": "markdown",
      "source": [
        "Primer Tarea Proyeto Python:\n",
        "  Nomnbre: Julio Cesar Olmedo Cruz"
      ],
      "metadata": {
        "id": "dLngoUvITRXN"
      }
    },
    {
      "cell_type": "code",
      "execution_count": null,
      "metadata": {
        "id": "k_2P1X5Yz_X0"
      },
      "outputs": [],
      "source": []
    },
    {
      "cell_type": "markdown",
      "source": [
        "1. Elección del conjunto de datos\n",
        "\n",
        "Selecciona un conjunto de datos que despierte tu interés. Pueden ser datos provenientes cualquiera área, como salud, finanzas, deportes, medio ambiente, etc. Recuerda que el conjunto de datos debe ser suficientemente grande para realizar un análisis significativo (mínimo 1000 filas y varias variables) y debe estar disponible en un formato legible por python, como csv, json, excel, etc. Puedes encontrar conjuntos de datos en plataformas como kaggle, uci machine learning repository, o google dataset search.\n",
        "\n",
        "2. Limpieza y transformación de los datos\n",
        "\n",
        "Una vez que tengas el conjunto de datos, el siguiente paso es limpiarlo y transformarlo para que esté listo para el análisis. Recuerda verificar las variables, gestionar los valores faltantes, corregir errores y similares\n",
        "\n",
        "3. Análisis exploratorio de datos (eda)\n",
        "\n",
        "Ejecuta el análisis exploratorio es esencial para comprender mejor la estructura, las relaciones y las características clave del conjunto de datos generando un resumen estadístico de las variables para identificar su distribución, medias, medianas, desviaciones estándar, etc. Recuerda también identificar patrones y tendencias dentro de los datos.\n",
        "\n",
        "4. Visualización de resultados\n",
        "\n",
        "Posteriormente ejecuta la visualización de los datos para comunicar hallazgos y comprender mejor las características del conjunto de datos. Puedes apoyarte de un histograma, un gráfico de barras, de pastel o cualquier otro gráfico que resulte adecuado para los datos seleccionados.\n",
        "\n",
        "5. Documentación y presentación\n",
        "\n",
        "Finalmente, proyecto debe ser entregado en un repositorio de github, que incluya el notebook de jupyter, los conjuntos de datos utilizados, y un breve informe que resuma tus hallazgos, observaciones clave, y visualizaciones más importantes, comentarios en el código y una sección de conclusiones donde expliques los resultados obtenidos y las posibles implicaciones o próximos pasos a seguir."
      ],
      "metadata": {
        "id": "JJTE5uVk1t3L"
      }
    },
    {
      "cell_type": "code",
      "source": [
        "!pip install ydata_profiling -q\n",
        "import pandas as pd\n",
        "import numpy as np\n",
        "import matplotlib.pyplot as plt\n",
        "import seaborn as sns\n",
        "from ydata_profiling import ProfileReport\n",
        "\n"
      ],
      "metadata": {
        "id": "jts7IUyv11NC"
      },
      "execution_count": null,
      "outputs": []
    },
    {
      "cell_type": "code",
      "source": [
        "df = pd.read_csv(\"/content/post_pandemic_remote_work_health_impact_2025.csv\")\n",
        "df.head()"
      ],
      "metadata": {
        "id": "wtiongT63mgO"
      },
      "execution_count": null,
      "outputs": []
    },
    {
      "cell_type": "code",
      "source": [
        "df.info()"
      ],
      "metadata": {
        "id": "xZ9xzi_t4O5I"
      },
      "execution_count": null,
      "outputs": []
    },
    {
      "cell_type": "code",
      "source": [
        "df.describe().T"
      ],
      "metadata": {
        "id": "5agPvoZ947Io"
      },
      "execution_count": null,
      "outputs": []
    },
    {
      "cell_type": "code",
      "source": [
        "report = ProfileReport(df)\n",
        "report.to_file(output_file='report.html')"
      ],
      "metadata": {
        "id": "J2tzGwcD5OuF"
      },
      "execution_count": null,
      "outputs": []
    },
    {
      "cell_type": "code",
      "source": [
        "df.isnull().sum()"
      ],
      "metadata": {
        "id": "k4G41zVg5bL7"
      },
      "execution_count": null,
      "outputs": []
    },
    {
      "cell_type": "markdown",
      "source": [
        "Limpiando y transformado para que este listo para el Analisis"
      ],
      "metadata": {
        "id": "uua_24J67jZz"
      }
    },
    {
      "cell_type": "code",
      "source": [
        "df['Mental_Health_Status'] = df['Mental_Health_Status'].fillna(\"Not Reported\")\n",
        "df['Physical_Health_Issues'] = df['Physical_Health_Issues'].fillna(\"None\")"
      ],
      "metadata": {
        "id": "Mfa3vUt67uFa"
      },
      "execution_count": null,
      "outputs": []
    },
    {
      "cell_type": "markdown",
      "source": [
        "## Limpieza y Transformación de Datos\n",
        "\n",
        "- Se gestionaron valores nulos en Mental_Health_Status y Physical_Health_Issues."
      ],
      "metadata": {
        "id": "qA5QQp-YRPeS"
      }
    },
    {
      "cell_type": "code",
      "source": [
        "print(df.duplicated().sum())\n",
        "print(df[\"Gender\"].unique())\n",
        "print(df['Work_Arrangement'].unique())"
      ],
      "metadata": {
        "id": "MSqQGdbW73FA"
      },
      "execution_count": null,
      "outputs": []
    },
    {
      "cell_type": "code",
      "source": [
        "print(df.isnull().sum())\n",
        "print(df.info())"
      ],
      "metadata": {
        "id": "BCSuaXUi8yAm"
      },
      "execution_count": null,
      "outputs": []
    },
    {
      "cell_type": "code",
      "source": [
        "sns.set(style=\"whitegrid\")\n",
        "sns.pairplot(df)"
      ],
      "metadata": {
        "id": "UCXnfqzl9unz"
      },
      "execution_count": null,
      "outputs": []
    },
    {
      "cell_type": "markdown",
      "source": [
        "##### Gráfico de pastel: Distribución de géneros ####"
      ],
      "metadata": {
        "id": "Ts6wsAQCO2C-"
      }
    },
    {
      "cell_type": "code",
      "source": [
        "df['Gender'].value_counts().plot.pie(autopct='%1.1f%%', startangle=45)\n",
        "plt.title(\"Distribución por Género\")\n",
        "plt.ylabel(\"\")\n",
        "plt.show()"
      ],
      "metadata": {
        "id": "IfsZq_NsO7z8"
      },
      "execution_count": null,
      "outputs": []
    },
    {
      "cell_type": "markdown",
      "source": [
        "Histograma: Distribución de edades"
      ],
      "metadata": {
        "id": "Je_JRRejPBC7"
      }
    },
    {
      "cell_type": "code",
      "source": [
        "sns.histplot(df['Age'], bins=10, kde=True, color='skyblue')\n",
        "plt.title(\"Distribución de Edades\")\n",
        "plt.xlabel(\"Edad\")\n",
        "plt.ylabel(\"Cantidad de personas\")\n",
        "plt.show()"
      ],
      "metadata": {
        "id": "EovBqRDsPD5T"
      },
      "execution_count": null,
      "outputs": []
    },
    {
      "cell_type": "markdown",
      "source": [
        "Gráfico de barras: Estado de salud mental"
      ],
      "metadata": {
        "id": "CoWWhkbqPG_i"
      }
    },
    {
      "cell_type": "code",
      "source": [
        "sns.countplot(data=df, x='Mental_Health_Status', order=df['Mental_Health_Status'].value_counts().index)\n",
        "plt.title(\"Estado de Salud Mental Reportado\")\n",
        "plt.xlabel(\"Estado\")\n",
        "plt.ylabel(\"Cantidad de personas\")\n",
        "plt.xticks(rotation=45)\n",
        "plt.show()"
      ],
      "metadata": {
        "id": "JhChbKFRPJni"
      },
      "execution_count": null,
      "outputs": []
    },
    {
      "cell_type": "markdown",
      "source": [
        "Gráfico de barras: Arreglo de trabajo (remoto, híbrido, etc.)"
      ],
      "metadata": {
        "id": "9JcjELARPNYB"
      }
    },
    {
      "cell_type": "code",
      "source": [
        "sns.countplot(data=df, x='Work_Arrangement', order=df['Work_Arrangement'].value_counts().index)\n",
        "plt.title(\"Tipos de Arreglo de Trabajo\")\n",
        "plt.xlabel(\"Tipo\")\n",
        "plt.ylabel(\"Cantidad\")\n",
        "plt.xticks(rotation=45)\n",
        "plt.show()"
      ],
      "metadata": {
        "id": "M15r3zQsPQHQ"
      },
      "execution_count": null,
      "outputs": []
    },
    {
      "cell_type": "markdown",
      "source": [
        "Mapa de calor: Correlación entre variables numéricas"
      ],
      "metadata": {
        "id": "WCnUMl_sR3kj"
      }
    },
    {
      "cell_type": "code",
      "source": [
        "sns.heatmap(df.corr(numeric_only=True), annot=True, cmap='coolwarm')\n",
        "plt.title(\"Matriz de Correlación entre Variables Numéricas\")\n",
        "plt.show()"
      ],
      "metadata": {
        "id": "48Yyi3zNR4Hb"
      },
      "execution_count": null,
      "outputs": []
    }
  ]
}